{
 "cells": [
  {
   "cell_type": "markdown",
   "metadata": {},
   "source": [
    "# Pytorch Baseline"
   ]
  },
  {
   "cell_type": "code",
   "execution_count": 1,
   "metadata": {},
   "outputs": [],
   "source": [
    "import torch\n",
    "from torch import nn\n",
    "import os\n",
    "from datetime import datetime\n",
    "import time\n",
    "import random\n",
    "import pandas as pd\n",
    "import numpy as np\n",
    "import albumentations as A\n",
    "import matplotlib.pyplot as plt\n",
    "from albumentations.pytorch.transforms import ToTensorV2\n",
    "from sklearn.model_selection import StratifiedKFold\n",
    "from torch.utils.data import Dataset, DataLoader\n",
    "from torch.utils.data.sampler import SequentialSampler, RandomSampler\n",
    "from glob import glob\n",
    "from tqdm import tqdm_notebook as tqdm\n",
    "import warnings\n",
    "import joblib\n",
    "\n",
    "warnings.simplefilter('ignore')\n",
    "warnings.filterwarnings('ignore')\n",
    "\n",
    "SEED = 42\n",
    "\n",
    "def seed_everything(seed):\n",
    "    random.seed(seed)\n",
    "    os.environ['PYTHONHASHSEED'] = str(seed)\n",
    "    np.random.seed(seed)\n",
    "    torch.manual_seed(seed)\n",
    "    torch.cuda.manual_seed(seed)\n",
    "    torch.backends.cudnn.deterministic = True\n",
    "    torch.backends.cudnn.benchmark = True\n",
    "\n",
    "seed_everything(SEED)"
   ]
  },
  {
   "cell_type": "markdown",
   "metadata": {},
   "source": [
    "# Data Path 경로"
   ]
  },
  {
   "cell_type": "code",
   "execution_count": 2,
   "metadata": {},
   "outputs": [],
   "source": [
    "dataset_path = '../data/KAERI_dataset/'"
   ]
  },
  {
   "cell_type": "markdown",
   "metadata": {},
   "source": [
    "# Stratified Group K-fold"
   ]
  },
  {
   "cell_type": "markdown",
   "metadata": {},
   "source": [
    "원하는 방법으로 데이터를 나누고, 학습에 활용합니다.\n",
    "여기서는 Stratified Group K-fold를 수행했습니다. (K = 5)"
   ]
  },
  {
   "cell_type": "markdown",
   "metadata": {},
   "source": [
    "- M, V를 그룹(Group)으로 하고 stratified k-fold함\n",
    "- train data를 살펴보면 시뮬레이션으로 위치를 생성했기 때문에 위치는 크게 의미없다고 판단함"
   ]
  },
  {
   "cell_type": "markdown",
   "metadata": {},
   "source": [
    "(가독성을 위해 Fold를 나누는 부분은 하단에 추가)\n",
    "\n",
    "미리 저장된 folds를 불러옵니다."
   ]
  },
  {
   "cell_type": "code",
   "execution_count": 3,
   "metadata": {},
   "outputs": [],
   "source": [
    "df_folds = pd.read_csv('../folds_0616.csv')"
   ]
  },
  {
   "cell_type": "code",
   "execution_count": 4,
   "metadata": {},
   "outputs": [
    {
     "data": {
      "text/html": [
       "<div>\n",
       "<style scoped>\n",
       "    .dataframe tbody tr th:only-of-type {\n",
       "        vertical-align: middle;\n",
       "    }\n",
       "\n",
       "    .dataframe tbody tr th {\n",
       "        vertical-align: top;\n",
       "    }\n",
       "\n",
       "    .dataframe thead th {\n",
       "        text-align: right;\n",
       "    }\n",
       "</style>\n",
       "<table border=\"1\" class=\"dataframe\">\n",
       "  <thead>\n",
       "    <tr style=\"text-align: right;\">\n",
       "      <th></th>\n",
       "      <th>id</th>\n",
       "      <th>X</th>\n",
       "      <th>Y</th>\n",
       "      <th>M</th>\n",
       "      <th>V</th>\n",
       "      <th>stratified_group</th>\n",
       "      <th>labels</th>\n",
       "      <th>fold</th>\n",
       "    </tr>\n",
       "  </thead>\n",
       "  <tbody>\n",
       "    <tr>\n",
       "      <th>0</th>\n",
       "      <td>1088</td>\n",
       "      <td>-300.0</td>\n",
       "      <td>-400.0</td>\n",
       "      <td>50.0</td>\n",
       "      <td>0.4</td>\n",
       "      <td>26</td>\n",
       "      <td>-300.0,-400.0,50.0,0.4</td>\n",
       "      <td>1</td>\n",
       "    </tr>\n",
       "    <tr>\n",
       "      <th>1</th>\n",
       "      <td>772</td>\n",
       "      <td>-200.0</td>\n",
       "      <td>400.0</td>\n",
       "      <td>75.0</td>\n",
       "      <td>0.6</td>\n",
       "      <td>32</td>\n",
       "      <td>-200.0,400.0,75.0,0.6</td>\n",
       "      <td>4</td>\n",
       "    </tr>\n",
       "    <tr>\n",
       "      <th>2</th>\n",
       "      <td>2161</td>\n",
       "      <td>300.0</td>\n",
       "      <td>400.0</td>\n",
       "      <td>75.0</td>\n",
       "      <td>0.6</td>\n",
       "      <td>32</td>\n",
       "      <td>300.0,400.0,75.0,0.6</td>\n",
       "      <td>0</td>\n",
       "    </tr>\n",
       "    <tr>\n",
       "      <th>3</th>\n",
       "      <td>1192</td>\n",
       "      <td>-300.0</td>\n",
       "      <td>-300.0</td>\n",
       "      <td>175.0</td>\n",
       "      <td>0.8</td>\n",
       "      <td>18</td>\n",
       "      <td>-300.0,-300.0,175.0,0.8</td>\n",
       "      <td>3</td>\n",
       "    </tr>\n",
       "    <tr>\n",
       "      <th>4</th>\n",
       "      <td>1916</td>\n",
       "      <td>-300.0</td>\n",
       "      <td>-300.0</td>\n",
       "      <td>25.0</td>\n",
       "      <td>0.8</td>\n",
       "      <td>23</td>\n",
       "      <td>-300.0,-300.0,25.0,0.8</td>\n",
       "      <td>1</td>\n",
       "    </tr>\n",
       "  </tbody>\n",
       "</table>\n",
       "</div>"
      ],
      "text/plain": [
       "     id      X      Y      M    V  stratified_group                   labels  \\\n",
       "0  1088 -300.0 -400.0   50.0  0.4                26   -300.0,-400.0,50.0,0.4   \n",
       "1   772 -200.0  400.0   75.0  0.6                32    -200.0,400.0,75.0,0.6   \n",
       "2  2161  300.0  400.0   75.0  0.6                32     300.0,400.0,75.0,0.6   \n",
       "3  1192 -300.0 -300.0  175.0  0.8                18  -300.0,-300.0,175.0,0.8   \n",
       "4  1916 -300.0 -300.0   25.0  0.8                23   -300.0,-300.0,25.0,0.8   \n",
       "\n",
       "   fold  \n",
       "0     1  \n",
       "1     4  \n",
       "2     0  \n",
       "3     3  \n",
       "4     1  "
      ]
     },
     "execution_count": 4,
     "metadata": {},
     "output_type": "execute_result"
    }
   ],
   "source": [
    "df_folds.head()"
   ]
  },
  {
   "cell_type": "markdown",
   "metadata": {},
   "source": [
    "# Dataset"
   ]
  },
  {
   "cell_type": "markdown",
   "metadata": {},
   "source": [
    "Train, Test 데이터를 pickle로 저장했다가 load합니다.\n",
    "- 가독성을 위해 pickle로 저장하는 부분은 하단에 추가\n",
    "\n",
    "미리 작성된 model(Resnet 등)을 활용하기 위해 1 channel을 3 channel로 변경합니다.\n",
    "- 모델 입력을 1 channel로 변경할 수도 있지만 편의상 데이터를 가공할 때 3 channel로 하였습니다."
   ]
  },
  {
   "cell_type": "code",
   "execution_count": 5,
   "metadata": {},
   "outputs": [],
   "source": [
    "class DatasetRetriever(Dataset):\n",
    "\n",
    "    def __init__(self, image_ids, labels, transforms=None, test=False):\n",
    "        super().__init__()\n",
    "\n",
    "        self.image_ids = image_ids\n",
    "        self.labels = labels.labels\n",
    "        self.transforms = transforms\n",
    "        self.test = test\n",
    "\n",
    "    def __getitem__(self, index: int):\n",
    "        image_id = self.image_ids[index]\n",
    "        \n",
    "        if self.test:\n",
    "            #print(\"test\") # if you want to do something in test mode, need to add\n",
    "            image, labels = self.load_image(index)\n",
    "        else:\n",
    "            image, labels = self.load_image(index)\n",
    "\n",
    "        if self.transforms:\n",
    "            sample = {'image': image}\n",
    "            sample = self.transforms(**sample)\n",
    "            image = sample['image']\n",
    "            \n",
    "        return image, labels\n",
    "\n",
    "    def __len__(self) -> int:\n",
    "        return self.image_ids.shape[0]\n",
    "    \n",
    "    def load_image(self, index):\n",
    "        image_id = self.image_ids[index]\n",
    "        image = joblib.load(f'../data/train_images/train_{image_id}.pkl')\n",
    "        #image = image[:, :, np.newaxis]\n",
    "        image = np.repeat(image, 3, 2)\n",
    "\n",
    "        \n",
    "        labels = self.labels[index]\n",
    "        labels = [np.float32(i) for i in labels.split(\",\")]\n",
    "\n",
    "        return image, np.array(labels)"
   ]
  },
  {
   "cell_type": "markdown",
   "metadata": {},
   "source": [
    "# Albumentations"
   ]
  },
  {
   "cell_type": "markdown",
   "metadata": {},
   "source": [
    "* ToTensorV2가 적합하지 않을 수도 있습니다. (ToTensorV2는 baseline 예시로 작성함)\n",
    "* ToTensor와 다른 Normalize 방법을 쓰셔도 됩니다."
   ]
  },
  {
   "cell_type": "code",
   "execution_count": 6,
   "metadata": {},
   "outputs": [],
   "source": [
    "def train_transforms():\n",
    "    return A.Compose(\n",
    "        [\n",
    "            ToTensorV2(p=1.0),\n",
    "        ], p=1.0)\n",
    "\n",
    "def valid_transforms():\n",
    "    return A.Compose(\n",
    "        [\n",
    "            ToTensorV2(p=1.0),\n",
    "        ], p=1.0)"
   ]
  },
  {
   "cell_type": "code",
   "execution_count": 7,
   "metadata": {},
   "outputs": [],
   "source": [
    "# fold 바꿔가면서 실험 후 CV 생성. 빠른 실험을 위해 0으로 고정함\n",
    "fold_number = 0\n",
    "\n",
    "train_dataset = DatasetRetriever(\n",
    "    image_ids=df_folds[df_folds['fold'] != fold_number].index.values,\n",
    "    labels=df_folds,\n",
    "    transforms=train_transforms(),\n",
    "    test=False,\n",
    ")\n",
    "\n",
    "df_val = df_folds[(df_folds['fold'] == fold_number)]\n",
    "\n",
    "validation_dataset = DatasetRetriever(\n",
    "    image_ids=df_val.index.values,\n",
    "    labels=df_folds,\n",
    "    transforms=valid_transforms(),\n",
    "    test=True,\n",
    ")"
   ]
  },
  {
   "cell_type": "markdown",
   "metadata": {},
   "source": [
    "## 데이터 확인"
   ]
  },
  {
   "cell_type": "code",
   "execution_count": 8,
   "metadata": {},
   "outputs": [
    {
     "name": "stdout",
     "output_type": "stream",
     "text": [
      "-300.0 -400.0 50.0 0.4\n"
     ]
    },
    {
     "data": {
      "image/png": "[encoded data removed]",
      "text/plain": [
       "<Figure size 1152x576 with 1 Axes>"
      ]
     },
     "metadata": {
      "needs_background": "light"
     },
     "output_type": "display_data"
    }
   ],
   "source": [
    "image, targets = train_dataset[0]\n",
    "\n",
    "x = targets[0]\n",
    "y = targets[1]\n",
    "m = targets[2]\n",
    "v = targets[3]\n",
    "\n",
    "print(x, y, m, v)\n",
    "\n",
    "numpy_image = image.permute(1,2,0).cpu().numpy()\n",
    "\n",
    "fig, ax = plt.subplots(1, 1, figsize=(16, 8))\n",
    "    \n",
    "ax.set_axis_off()\n",
    "ax.imshow(numpy_image, cmap='gray');"
   ]
  },
  {
   "cell_type": "code",
   "execution_count": 9,
   "metadata": {},
   "outputs": [
    {
     "data": {
      "image/png": "[encoded data removed]",
      "text/plain": [
       "<Figure size 576x432 with 1 Axes>"
      ]
     },
     "metadata": {
      "needs_background": "light"
     },
     "output_type": "display_data"
    }
   ],
   "source": [
    "plt.figure(figsize=(8,6))\n",
    "\n",
    "plt.plot(numpy_image[:,0,0], label=\"Sensor #1\")\n",
    "plt.plot(numpy_image[:,1,0], label=\"Sensor #2\")\n",
    "plt.plot(numpy_image[:,2,0], label=\"Sensor #3\")\n",
    "plt.plot(numpy_image[:,3,0], label=\"Sensor #4\")\n",
    "\n",
    "plt.xlabel(\"Time\", labelpad=10, size=20)\n",
    "plt.ylabel(\"Acceleration\", labelpad=10, size=20)\n",
    "plt.xticks(size=15)\n",
    "plt.yticks(size=15)\n",
    "plt.xlim(0, 400)\n",
    "plt.legend(loc=1)\n",
    "\n",
    "plt.show()"
   ]
  },
  {
   "cell_type": "markdown",
   "metadata": {},
   "source": [
    "# Custom loss & Meter"
   ]
  },
  {
   "cell_type": "markdown",
   "metadata": {},
   "source": [
    "대회에서 제공하는 metric를 이용한 loss입니다."
   ]
  },
  {
   "cell_type": "code",
   "execution_count": 10,
   "metadata": {},
   "outputs": [],
   "source": [
    "train_target = 'xy'"
   ]
  },
  {
   "cell_type": "code",
   "execution_count": 11,
   "metadata": {},
   "outputs": [],
   "source": [
    "def E1_loss(y_true, y_pred):\n",
    "    _t, _p = y_true[:,:2], y_pred[:,:2]\n",
    "    return torch.mean(torch.sum(torch.square(_t - _p), 1) / 2e+4)\n",
    "def E2_loss(y_true, y_pred):\n",
    "    _t, _p = y_true[:,2:], y_pred[:,2:]\n",
    "    return torch.mean(torch.sum(torch.square( (_t - _p) / (_t + 1e-6)), 1))\n",
    "\n",
    "def kaeri_score(y_true, y_pred):\n",
    "    if train_target == 'xy':\n",
    "        return E1_loss(y_true, y_pred)\n",
    "    #elif train_target == 'm':\n",
    "    #    return E2_loss_m(y_true, y_pred)\n",
    "    #elif train_target == 'v':\n",
    "    #    return E2_loss_v(y_true, y_pred)\n",
    "    elif train_target == 'mv':\n",
    "        return E2_loss(y_true, y_pred)\n",
    "    else:\n",
    "        return 0.5 * E1_loss(y_true, y_pred) + 0.5 * E2_loss(y_true, y_pred)"
   ]
  },
  {
   "cell_type": "code",
   "execution_count": 12,
   "metadata": {},
   "outputs": [],
   "source": [
    "class AverageMeter(object):\n",
    "    \"\"\"Computes and stores the average and current value\"\"\"\n",
    "    def __init__(self):\n",
    "        self.reset()\n",
    "\n",
    "    def reset(self):\n",
    "        self.val = 0\n",
    "        self.avg = 0\n",
    "        self.sum = 0\n",
    "        self.count = 0\n",
    "\n",
    "    def update(self, val, n=1):\n",
    "        self.val = val\n",
    "        self.sum += val * n\n",
    "        self.count += n\n",
    "        self.avg = self.sum / self.count\n",
    "        \n",
    "class KaeriMeter(object):\n",
    "    def __init__(self):\n",
    "        self.reset()\n",
    "        \n",
    "    def reset(self):\n",
    "        self.y_true = np.array([0,0,0,0])\n",
    "        self.y_pred = np.array([0.5,0.5,0.5,0.5])\n",
    "        self.score = 0\n",
    "        \n",
    "    def update(self, y_true, y_pred):\n",
    "\n",
    "        self.y_true = y_true.detach().cpu()\n",
    "        self.y_pred = y_pred.detach().cpu()\n",
    "        \n",
    "        self.score = kaeri_score(self.y_true, self.y_pred)\n",
    "    \n",
    "    @property\n",
    "    def avg(self):\n",
    "        return self.score        "
   ]
  },
  {
   "cell_type": "markdown",
   "metadata": {},
   "source": [
    "# Fitter"
   ]
  },
  {
   "cell_type": "markdown",
   "metadata": {},
   "source": [
    "모델을 학습하고, loss 및 score를 계산하는 부분입니다."
   ]
  },
  {
   "cell_type": "code",
   "execution_count": 13,
   "metadata": {},
   "outputs": [],
   "source": [
    "class Fitter:\n",
    "    \n",
    "    def __init__(self, model, device, config):\n",
    "        self.config = config\n",
    "        self.epoch = 0\n",
    "        \n",
    "        self.base_dir = './'\n",
    "        self.log_path = f'{self.base_dir}/log.txt'\n",
    "        self.best_summary_loss = 10**5\n",
    "\n",
    "        self.model = model\n",
    "        self.device = device\n",
    "\n",
    "        param_optimizer = list(self.model.named_parameters())\n",
    "        no_decay = ['bias', 'LayerNorm.bias', 'LayerNorm.weight']\n",
    "        optimizer_grouped_parameters = [\n",
    "            {'params': [p for n, p in param_optimizer if not any(nd in n for nd in no_decay)], 'weight_decay': 0.001},\n",
    "            {'params': [p for n, p in param_optimizer if any(nd in n for nd in no_decay)], 'weight_decay': 0.0}\n",
    "        ] \n",
    "\n",
    "        self.optimizer = torch.optim.Adam(self.model.parameters(), lr=config.lr)\n",
    "        self.scheduler = config.SchedulerClass(self.optimizer, **config.scheduler_params)\n",
    "        self.log(f'Fitter prepared. Device is {self.device}')\n",
    "\n",
    "    def fit(self, train_loader, validation_loader):\n",
    "        for e in range(self.config.n_epochs):\n",
    "            if self.config.verbose:\n",
    "                lr = self.optimizer.param_groups[0]['lr']\n",
    "                timestamp = datetime.utcnow().isoformat()\n",
    "                self.log(f'\\n{timestamp}\\nLR: {lr}')\n",
    "\n",
    "            t = time.time()\n",
    "            summary_loss, final_scores = self.train_one_epoch(train_loader)\n",
    "            #summary_loss  = self.train_one_epoch(train_loader)\n",
    "            \n",
    "            self.log(f'[RESULT]: Train. Epoch: {self.epoch}, summary_loss: {summary_loss.avg:.5f}, final_score: {final_scores.avg:.5f}, time: {(time.time() - t):.5f}')\n",
    "            self.save(f'{self.base_dir}/last-checkpoint.bin')\n",
    "\n",
    "            t = time.time()\n",
    "            summary_loss, final_scores = self.validation(validation_loader)\n",
    "            #summary_loss = self.validation(validation_loader)\n",
    "\n",
    "            self.log(f'[RESULT]: Val. Epoch: {self.epoch}, summary_loss: {summary_loss.avg:.5f}, final_score: {final_scores.avg:.5f}, time: {(time.time() - t):.5f}')\n",
    "            if summary_loss.avg < self.best_summary_loss:\n",
    "                self.best_summary_loss = summary_loss.avg\n",
    "                self.model.eval()\n",
    "                self.save(f'{self.base_dir}/best-checkpoint-{str(self.epoch).zfill(3)}epoch.bin')\n",
    "                \n",
    "                for path in sorted(glob(f'{self.base_dir}/best-checkpoint-*epoch.bin'))[:-3]:\n",
    "                    os.remove(path)\n",
    "\n",
    "            if self.config.validation_scheduler:\n",
    "                self.scheduler.step(metrics=summary_loss.avg)\n",
    "\n",
    "            self.epoch += 1\n",
    "\n",
    "    def validation(self, val_loader):\n",
    "        self.model.eval()\n",
    "        summary_loss = AverageMeter()\n",
    "        final_scores = KaeriMeter()\n",
    "\n",
    "        t = time.time()\n",
    "        for step, (images, targets) in enumerate(tqdm(val_loader)):\n",
    "            if self.config.verbose:\n",
    "                if step % self.config.verbose_step == 0:\n",
    "\n",
    "                    print(\n",
    "                        f'Val Step {step}/{len(val_loader)}, ' + \\\n",
    "                        f'summary_loss: {summary_loss.avg:.5f}, ' + \\\n",
    "                        f'final_score: {final_scores.avg:.5f}, ' + \\\n",
    "                        f'time: {(time.time() - t):.5f}', end='\\r'\n",
    "                    )\n",
    "            with torch.no_grad():\n",
    "                targets = targets.to(self.device).float()\n",
    "                batch_size = images.shape[0]\n",
    "                images = images.to(self.device).float()\n",
    "                outputs = self.model(images)\n",
    "\n",
    "                loss = kaeri_score(targets, outputs)\n",
    "                \n",
    "                final_scores.update(targets, outputs)\n",
    "\n",
    "                summary_loss.update(loss.detach().item(), batch_size)\n",
    "\n",
    "        return summary_loss, final_scores\n",
    "\n",
    "    def train_one_epoch(self, train_loader):\n",
    "        self.model.train()\n",
    "        summary_loss = AverageMeter()\n",
    "        final_scores = KaeriMeter()\n",
    "\n",
    "        t = time.time()\n",
    "                \n",
    "        for step, (images, targets) in enumerate(tqdm(train_loader)):\n",
    "\n",
    "            if self.config.verbose:\n",
    "                if step % self.config.verbose_step == 0:\n",
    "                    print(\n",
    "                        f'Train Step {step}/{len(train_loader)}, ' + \\\n",
    "                        f'summary_loss: {summary_loss.avg:.5f}, ' + \\\n",
    "                        f'final_score: {final_scores.avg:.5f}, ' + \\\n",
    "                        f'time: {(time.time() - t):.5f}', end='\\r'\n",
    "                    )\n",
    "            \n",
    "            targets = targets.to(self.device, dtype=torch.float32)\n",
    "            images = images.to(self.device).float()\n",
    "            batch_size = images.shape[0]\n",
    "\n",
    "            self.optimizer.zero_grad()\n",
    "            outputs = self.model(images)\n",
    "            \n",
    "            loss = kaeri_score(targets, outputs)\n",
    " \n",
    "            loss.backward()\n",
    "            \n",
    "            final_scores.update(targets, outputs)\n",
    "\n",
    "            summary_loss.update(loss.detach().item(), batch_size)\n",
    "\n",
    "            self.optimizer.step()\n",
    "\n",
    "            if self.config.step_scheduler:\n",
    "                self.scheduler.step()\n",
    "\n",
    "        return summary_loss, final_scores\n",
    "    \n",
    "    def save(self, path):\n",
    "        self.model.eval()\n",
    "        torch.save({\n",
    "            'model_state_dict': self.model.state_dict(),\n",
    "            'optimizer_state_dict': self.optimizer.state_dict(),\n",
    "            'scheduler_state_dict': self.scheduler.state_dict(),\n",
    "            'best_summary_loss': self.best_summary_loss,\n",
    "            'epoch': self.epoch,\n",
    "        }, path)\n",
    "\n",
    "    def load(self, path):\n",
    "        checkpoint = torch.load(path)\n",
    "        self.model.load_state_dict(checkpoint['model_state_dict'])\n",
    "        self.optimizer.load_state_dict(checkpoint['optimizer_state_dict'])\n",
    "        self.scheduler.load_state_dict(checkpoint['scheduler_state_dict'])\n",
    "        self.best_summary_loss = checkpoint['best_summary_loss']\n",
    "        self.epoch = checkpoint['epoch'] + 1\n",
    "        \n",
    "    def log(self, message):\n",
    "        if self.config.verbose:\n",
    "            print(message)\n",
    "        with open(self.log_path, 'a+') as logger:\n",
    "            logger.write(f'{message}\\n')"
   ]
  },
  {
   "cell_type": "code",
   "execution_count": 14,
   "metadata": {},
   "outputs": [],
   "source": [
    "class TrainGlobalConfig:\n",
    "    num_workers = 4 #적절히 수정하세요.\n",
    "    batch_size = 32 #적절히 수정하세요.\n",
    "    n_epochs = 10 #적절히 수정하세요.\n",
    "    lr = 0.001 #적절히 수정하세요.\n",
    "\n",
    "    folder = 'kaeri_base'\n",
    "\n",
    "    verbose = True\n",
    "    verbose_step = 1\n",
    "\n",
    "    step_scheduler = False  # do scheduler.step after optimizer.step\n",
    "    validation_scheduler = True  # do scheduler.step after validation stage loss\n",
    "\n",
    "    SchedulerClass = torch.optim.lr_scheduler.ReduceLROnPlateau\n",
    "    scheduler_params = dict(\n",
    "        mode='min',\n",
    "        factor=0.5,\n",
    "        patience=2, # 1\n",
    "        verbose=False, \n",
    "        threshold=0.0001,\n",
    "        threshold_mode='abs',\n",
    "        cooldown=0, \n",
    "        min_lr=1e-8,\n",
    "        eps=1e-08\n",
    "    )"
   ]
  },
  {
   "cell_type": "code",
   "execution_count": 15,
   "metadata": {},
   "outputs": [],
   "source": [
    "def run_training():\n",
    "    device = torch.device(\"cuda\" if torch.cuda.is_available() else \"cpu\")\n",
    "    net.to(device)\n",
    "\n",
    "    train_loader = torch.utils.data.DataLoader(\n",
    "        train_dataset,\n",
    "        batch_size=TrainGlobalConfig.batch_size,\n",
    "        sampler=RandomSampler(train_dataset),\n",
    "        pin_memory=False,\n",
    "        drop_last=True,\n",
    "        num_workers=TrainGlobalConfig.num_workers\n",
    "    )\n",
    "    val_loader = torch.utils.data.DataLoader(\n",
    "        validation_dataset, \n",
    "        batch_size=TrainGlobalConfig.batch_size,\n",
    "        num_workers=TrainGlobalConfig.num_workers,\n",
    "        shuffle=False,\n",
    "        sampler=SequentialSampler(validation_dataset),\n",
    "        pin_memory=False\n",
    "    )\n",
    "\n",
    "    fitter = Fitter(model=net, device=device, config=TrainGlobalConfig)\n",
    "    fitter.fit(train_loader, val_loader)"
   ]
  },
  {
   "cell_type": "markdown",
   "metadata": {},
   "source": [
    "# Model"
   ]
  },
  {
   "cell_type": "markdown",
   "metadata": {},
   "source": [
    "다른 분들이 많이 쓰는 모델 구조와 pretrained weights를 사용할 수 있습니다. \n",
    "- 해당 예시에서는 pretrained=False로 하겠습니다.\n",
    "- 마지막 layer를 대회 output에 맞게 변경합니다."
   ]
  },
  {
   "cell_type": "code",
   "execution_count": 16,
   "metadata": {},
   "outputs": [],
   "source": [
    "import timm\n",
    "\n",
    "def get_net():\n",
    "    net = timm.create_model('seresnet18', pretrained=True)\n",
    "    net.last_linear = nn.Linear(in_features=net.last_linear.in_features, out_features=4, bias=True)\n",
    "    \n",
    "    return net\n",
    "\n",
    "net = get_net().cuda()"
   ]
  },
  {
   "cell_type": "markdown",
   "metadata": {},
   "source": [
    "# 학습"
   ]
  },
  {
   "cell_type": "markdown",
   "metadata": {},
   "source": [
    "- fold 바꿔가면서 실험하면 됩니다.\n",
    "- 여기서는 epoch을 10만 했습니다."
   ]
  },
  {
   "cell_type": "code",
   "execution_count": 17,
   "metadata": {},
   "outputs": [
    {
     "name": "stdout",
     "output_type": "stream",
     "text": [
      "Fitter prepared. Device is cuda\n",
      "\n",
      "2020-06-30T13:36:05.127909\n",
      "LR: 0.001\n"
     ]
    },
    {
     "data": {
      "application/vnd.jupyter.widget-view+json": {
       "model_id": "033e7dd0964c47b689235d074a7a7dd1",
       "version_major": 2,
       "version_minor": 0
      },
      "text/plain": [
       "HBox(children=(FloatProgress(value=0.0, max=70.0), HTML(value='')))"
      ]
     },
     "metadata": {},
     "output_type": "display_data"
    },
    {
     "name": "stdout",
     "output_type": "stream",
     "text": [
      "Train Step 69/70, summary_loss: 6.69226, final_score: 6.57304, time: 3.05927\n",
      "[RESULT]: Train. Epoch: 0, summary_loss: 6.69702, final_score: 7.02516, time: 3.15094\n"
     ]
    },
    {
     "data": {
      "application/vnd.jupyter.widget-view+json": {
       "model_id": "052440ef60754857b6b7770c46cab448",
       "version_major": 2,
       "version_minor": 0
      },
      "text/plain": [
       "HBox(children=(FloatProgress(value=0.0, max=18.0), HTML(value='')))"
      ]
     },
     "metadata": {},
     "output_type": "display_data"
    },
    {
     "name": "stdout",
     "output_type": "stream",
     "text": [
      "Val Step 17/18, summary_loss: 6.65934, final_score: 5.92065, time: 0.32963\n",
      "[RESULT]: Val. Epoch: 0, summary_loss: 6.69762, final_score: 7.99909, time: 0.43215\n",
      "\n",
      "2020-06-30T13:36:09.331937\n",
      "LR: 0.001\n"
     ]
    },
    {
     "data": {
      "application/vnd.jupyter.widget-view+json": {
       "model_id": "9955658df8d64b7faf838cc3d57bf2e0",
       "version_major": 2,
       "version_minor": 0
      },
      "text/plain": [
       "HBox(children=(FloatProgress(value=0.0, max=70.0), HTML(value='')))"
      ]
     },
     "metadata": {},
     "output_type": "display_data"
    },
    {
     "name": "stdout",
     "output_type": "stream",
     "text": [
      "Train Step 69/70, summary_loss: 6.68424, final_score: 7.62239, time: 2.39265\n",
      "[RESULT]: Train. Epoch: 1, summary_loss: 6.69577, final_score: 7.49148, time: 2.47193\n"
     ]
    },
    {
     "data": {
      "application/vnd.jupyter.widget-view+json": {
       "model_id": "aed9af2261d64b25a56cb028ce95ad81",
       "version_major": 2,
       "version_minor": 0
      },
      "text/plain": [
       "HBox(children=(FloatProgress(value=0.0, max=18.0), HTML(value='')))"
      ]
     },
     "metadata": {},
     "output_type": "display_data"
    },
    {
     "name": "stdout",
     "output_type": "stream",
     "text": [
      "Val Step 17/18, summary_loss: 6.66116, final_score: 5.93486, time: 0.34518\n",
      "[RESULT]: Val. Epoch: 1, summary_loss: 6.69748, final_score: 7.93217, time: 0.41450\n",
      "\n",
      "2020-06-30T13:36:12.825944\n",
      "LR: 0.001\n"
     ]
    },
    {
     "data": {
      "application/vnd.jupyter.widget-view+json": {
       "model_id": "8c9761cc197e4316b2a950e5147ae2ba",
       "version_major": 2,
       "version_minor": 0
      },
      "text/plain": [
       "HBox(children=(FloatProgress(value=0.0, max=70.0), HTML(value='')))"
      ]
     },
     "metadata": {},
     "output_type": "display_data"
    },
    {
     "name": "stdout",
     "output_type": "stream",
     "text": [
      "Train Step 69/70, summary_loss: 6.68916, final_score: 5.79397, time: 2.39916\n",
      "[RESULT]: Train. Epoch: 2, summary_loss: 6.69629, final_score: 7.18791, time: 2.47477\n"
     ]
    },
    {
     "data": {
      "application/vnd.jupyter.widget-view+json": {
       "model_id": "26c6e06915b34af1a93824074befd11c",
       "version_major": 2,
       "version_minor": 0
      },
      "text/plain": [
       "HBox(children=(FloatProgress(value=0.0, max=18.0), HTML(value='')))"
      ]
     },
     "metadata": {},
     "output_type": "display_data"
    },
    {
     "name": "stdout",
     "output_type": "stream",
     "text": [
      "Val Step 17/18, summary_loss: 6.66052, final_score: 5.94136, time: 0.31912\n",
      "[RESULT]: Val. Epoch: 2, summary_loss: 6.69751, final_score: 7.95520, time: 0.36766\n",
      "\n",
      "2020-06-30T13:36:16.141061\n",
      "LR: 0.001\n"
     ]
    },
    {
     "data": {
      "application/vnd.jupyter.widget-view+json": {
       "model_id": "7754823f498c4a26bd3dc9f2db13207c",
       "version_major": 2,
       "version_minor": 0
      },
      "text/plain": [
       "HBox(children=(FloatProgress(value=0.0, max=70.0), HTML(value='')))"
      ]
     },
     "metadata": {},
     "output_type": "display_data"
    },
    {
     "name": "stdout",
     "output_type": "stream",
     "text": [
      "Train Step 69/70, summary_loss: 6.68671, final_score: 6.22119, time: 2.46545\n",
      "[RESULT]: Train. Epoch: 3, summary_loss: 6.69597, final_score: 7.33509, time: 2.53895\n"
     ]
    },
    {
     "data": {
      "application/vnd.jupyter.widget-view+json": {
       "model_id": "999334acb49e4a75b8bce6a9d1e37648",
       "version_major": 2,
       "version_minor": 0
      },
      "text/plain": [
       "HBox(children=(FloatProgress(value=0.0, max=18.0), HTML(value='')))"
      ]
     },
     "metadata": {},
     "output_type": "display_data"
    },
    {
     "name": "stdout",
     "output_type": "stream",
     "text": [
      "Val Step 17/18, summary_loss: 6.66723, final_score: 5.93713, time: 0.32043\n",
      "[RESULT]: Val. Epoch: 3, summary_loss: 6.70245, final_score: 7.89974, time: 0.36793\n",
      "\n",
      "2020-06-30T13:36:19.487716\n",
      "LR: 0.001\n"
     ]
    },
    {
     "data": {
      "application/vnd.jupyter.widget-view+json": {
       "model_id": "7539d4e873584997a1a41a6bdcbffcc0",
       "version_major": 2,
       "version_minor": 0
      },
      "text/plain": [
       "HBox(children=(FloatProgress(value=0.0, max=70.0), HTML(value='')))"
      ]
     },
     "metadata": {},
     "output_type": "display_data"
    },
    {
     "name": "stdout",
     "output_type": "stream",
     "text": [
      "Train Step 69/70, summary_loss: 6.71303, final_score: 7.53230, time: 2.43175\n",
      "[RESULT]: Train. Epoch: 4, summary_loss: 6.69517, final_score: 5.46287, time: 2.50700\n"
     ]
    },
    {
     "data": {
      "application/vnd.jupyter.widget-view+json": {
       "model_id": "097e50c570694edc80cf6a294b3ec9c1",
       "version_major": 2,
       "version_minor": 0
      },
      "text/plain": [
       "HBox(children=(FloatProgress(value=0.0, max=18.0), HTML(value='')))"
      ]
     },
     "metadata": {},
     "output_type": "display_data"
    },
    {
     "name": "stdout",
     "output_type": "stream",
     "text": [
      "Val Step 17/18, summary_loss: 6.65985, final_score: 5.93907, time: 0.33610\n",
      "[RESULT]: Val. Epoch: 4, summary_loss: 6.69694, final_score: 7.95798, time: 0.38471\n",
      "\n",
      "2020-06-30T13:36:22.987484\n",
      "LR: 0.001\n"
     ]
    },
    {
     "data": {
      "application/vnd.jupyter.widget-view+json": {
       "model_id": "e5e8ce6d538a44aa906c91768c263824",
       "version_major": 2,
       "version_minor": 0
      },
      "text/plain": [
       "HBox(children=(FloatProgress(value=0.0, max=70.0), HTML(value='')))"
      ]
     },
     "metadata": {},
     "output_type": "display_data"
    },
    {
     "name": "stdout",
     "output_type": "stream",
     "text": [
      "Train Step 69/70, summary_loss: 6.70339, final_score: 7.51777, time: 2.45382\n",
      "[RESULT]: Train. Epoch: 5, summary_loss: 6.69585, final_score: 6.17577, time: 2.53330\n"
     ]
    },
    {
     "data": {
      "application/vnd.jupyter.widget-view+json": {
       "model_id": "efe0d73ede32429d9fbc86b594f38c5c",
       "version_major": 2,
       "version_minor": 0
      },
      "text/plain": [
       "HBox(children=(FloatProgress(value=0.0, max=18.0), HTML(value='')))"
      ]
     },
     "metadata": {},
     "output_type": "display_data"
    },
    {
     "name": "stdout",
     "output_type": "stream",
     "text": [
      "Val Step 17/18, summary_loss: 7.25946, final_score: 6.10550, time: 0.31661\n",
      "[RESULT]: Val. Epoch: 5, summary_loss: 7.29912, final_score: 8.64743, time: 0.37358\n",
      "\n",
      "2020-06-30T13:36:26.345533\n",
      "LR: 0.001\n"
     ]
    },
    {
     "data": {
      "application/vnd.jupyter.widget-view+json": {
       "model_id": "dab7e998c67b47c28d41040b0487fbe8",
       "version_major": 2,
       "version_minor": 0
      },
      "text/plain": [
       "HBox(children=(FloatProgress(value=0.0, max=70.0), HTML(value='')))"
      ]
     },
     "metadata": {},
     "output_type": "display_data"
    },
    {
     "name": "stdout",
     "output_type": "stream",
     "text": [
      "Train Step 69/70, summary_loss: 6.68531, final_score: 6.29800, time: 2.40267\n",
      "[RESULT]: Train. Epoch: 6, summary_loss: 6.69478, final_score: 7.34824, time: 2.47105\n"
     ]
    },
    {
     "data": {
      "application/vnd.jupyter.widget-view+json": {
       "model_id": "c6231eeef8954465a07be8d6fc4efbb0",
       "version_major": 2,
       "version_minor": 0
      },
      "text/plain": [
       "HBox(children=(FloatProgress(value=0.0, max=18.0), HTML(value='')))"
      ]
     },
     "metadata": {},
     "output_type": "display_data"
    },
    {
     "name": "stdout",
     "output_type": "stream",
     "text": [
      "Val Step 17/18, summary_loss: 6.66028, final_score: 5.93437, time: 0.31996\n",
      "[RESULT]: Val. Epoch: 6, summary_loss: 6.69726, final_score: 7.95481, time: 0.37138\n",
      "\n",
      "2020-06-30T13:36:29.632610\n",
      "LR: 0.001\n"
     ]
    },
    {
     "data": {
      "application/vnd.jupyter.widget-view+json": {
       "model_id": "bc93cde8d8824e6082ca6c1eab0376de",
       "version_major": 2,
       "version_minor": 0
      },
      "text/plain": [
       "HBox(children=(FloatProgress(value=0.0, max=70.0), HTML(value='')))"
      ]
     },
     "metadata": {},
     "output_type": "display_data"
    },
    {
     "name": "stdout",
     "output_type": "stream",
     "text": [
      "Train Step 69/70, summary_loss: 6.70854, final_score: 7.05060, time: 2.38354\n",
      "[RESULT]: Train. Epoch: 7, summary_loss: 6.69338, final_score: 5.64685, time: 2.46175\n"
     ]
    },
    {
     "data": {
      "application/vnd.jupyter.widget-view+json": {
       "model_id": "539b8919585e450aadce3bb906b5b0d2",
       "version_major": 2,
       "version_minor": 0
      },
      "text/plain": [
       "HBox(children=(FloatProgress(value=0.0, max=18.0), HTML(value='')))"
      ]
     },
     "metadata": {},
     "output_type": "display_data"
    },
    {
     "name": "stdout",
     "output_type": "stream",
     "text": [
      "Val Step 17/18, summary_loss: 6.66025, final_score: 5.91757, time: 0.32002\n",
      "[RESULT]: Val. Epoch: 7, summary_loss: 6.69560, final_score: 7.89768, time: 0.38046\n",
      "\n",
      "2020-06-30T13:36:33.374536\n",
      "LR: 0.001\n"
     ]
    },
    {
     "data": {
      "application/vnd.jupyter.widget-view+json": {
       "model_id": "4493b50bb82f46fc8d9b7f9885c98991",
       "version_major": 2,
       "version_minor": 0
      },
      "text/plain": [
       "HBox(children=(FloatProgress(value=0.0, max=70.0), HTML(value='')))"
      ]
     },
     "metadata": {},
     "output_type": "display_data"
    },
    {
     "name": "stdout",
     "output_type": "stream",
     "text": [
      "Train Step 69/70, summary_loss: 6.68894, final_score: 7.47802, time: 2.43981\n",
      "[RESULT]: Train. Epoch: 8, summary_loss: 6.69588, final_score: 7.17483, time: 2.52004\n"
     ]
    },
    {
     "data": {
      "application/vnd.jupyter.widget-view+json": {
       "model_id": "6b46a246777f401cafe34633575b65d5",
       "version_major": 2,
       "version_minor": 0
      },
      "text/plain": [
       "HBox(children=(FloatProgress(value=0.0, max=18.0), HTML(value='')))"
      ]
     },
     "metadata": {},
     "output_type": "display_data"
    },
    {
     "name": "stdout",
     "output_type": "stream",
     "text": [
      "Val Step 17/18, summary_loss: 6.68371, final_score: 6.00537, time: 0.32675\n",
      "[RESULT]: Val. Epoch: 8, summary_loss: 6.70606, final_score: 7.46578, time: 0.37885\n",
      "\n",
      "2020-06-30T13:36:36.798464\n",
      "LR: 0.001\n"
     ]
    },
    {
     "data": {
      "application/vnd.jupyter.widget-view+json": {
       "model_id": "87deedabec9542d3889fd8b86d4b15e1",
       "version_major": 2,
       "version_minor": 0
      },
      "text/plain": [
       "HBox(children=(FloatProgress(value=0.0, max=70.0), HTML(value='')))"
      ]
     },
     "metadata": {},
     "output_type": "display_data"
    },
    {
     "name": "stdout",
     "output_type": "stream",
     "text": [
      "Train Step 69/70, summary_loss: 6.69061, final_score: 6.01953, time: 2.48284\n",
      "[RESULT]: Train. Epoch: 9, summary_loss: 6.69422, final_score: 6.94294, time: 2.55584\n"
     ]
    },
    {
     "data": {
      "application/vnd.jupyter.widget-view+json": {
       "model_id": "03f511170e5e49d2a89c80ceb4579248",
       "version_major": 2,
       "version_minor": 0
      },
      "text/plain": [
       "HBox(children=(FloatProgress(value=0.0, max=18.0), HTML(value='')))"
      ]
     },
     "metadata": {},
     "output_type": "display_data"
    },
    {
     "name": "stdout",
     "output_type": "stream",
     "text": [
      "Val Step 17/18, summary_loss: 6.65572, final_score: 5.94239, time: 0.32657\n",
      "[RESULT]: Val. Epoch: 9, summary_loss: 6.68940, final_score: 7.83449, time: 0.38788\n"
     ]
    }
   ],
   "source": [
    "run_training()"
   ]
  },
  {
   "cell_type": "markdown",
   "metadata": {},
   "source": [
    "# Inference"
   ]
  },
  {
   "cell_type": "markdown",
   "metadata": {},
   "source": [
    "* 이 부분은 한번 직접 작성해보면 어떨까요...(?)"
   ]
  },
  {
   "cell_type": "markdown",
   "metadata": {},
   "source": [
    "감사합니다."
   ]
  },
  {
   "cell_type": "markdown",
   "metadata": {},
   "source": [
    "# [추가1] Stratified Group K-fold\n",
    "- 최초 한 번 실행하여 파일 생성한 뒤에는 실행할 필요 없음"
   ]
  },
  {
   "cell_type": "code",
   "execution_count": 18,
   "metadata": {},
   "outputs": [],
   "source": [
    "train_x_df = pd.read_csv(dataset_path + \"train_features.csv\")\n",
    "train_y_df = pd.read_csv(dataset_path + \"train_target.csv\")"
   ]
  },
  {
   "cell_type": "code",
   "execution_count": 19,
   "metadata": {},
   "outputs": [],
   "source": [
    "import numpy as np\n",
    "import random\n",
    "import pandas as pd\n",
    "from collections import Counter, defaultdict\n",
    "\n",
    "def stratified_group_k_fold(X, y, groups, k, seed=None):\n",
    "    \"\"\" https://www.kaggle.com/jakubwasikowski/stratified-group-k-fold-cross-validation \"\"\"\n",
    "    labels_num = np.max(y) + 1\n",
    "    y_counts_per_group = defaultdict(lambda: np.zeros(labels_num))\n",
    "    y_distr = Counter()\n",
    "    for label, g in zip(y, groups):\n",
    "        y_counts_per_group[g][label] += 1\n",
    "        y_distr[label] += 1\n",
    "\n",
    "    y_counts_per_fold = defaultdict(lambda: np.zeros(labels_num))\n",
    "    groups_per_fold = defaultdict(set)\n",
    "\n",
    "    def eval_y_counts_per_fold(y_counts, fold):\n",
    "        y_counts_per_fold[fold] += y_counts\n",
    "        std_per_label = []\n",
    "        for label in range(labels_num):\n",
    "            label_std = np.std([y_counts_per_fold[i][label] / y_distr[label] for i in range(k)])\n",
    "            std_per_label.append(label_std)\n",
    "        y_counts_per_fold[fold] -= y_counts\n",
    "        return np.mean(std_per_label)\n",
    "    \n",
    "    groups_and_y_counts = list(y_counts_per_group.items())\n",
    "    random.Random(seed).shuffle(groups_and_y_counts)\n",
    "\n",
    "    for g, y_counts in tqdm(sorted(groups_and_y_counts, key=lambda x: -np.std(x[1])), total=len(groups_and_y_counts)):\n",
    "        best_fold = None\n",
    "        min_eval = None\n",
    "        for i in range(k):\n",
    "            fold_eval = eval_y_counts_per_fold(y_counts, i)\n",
    "            if min_eval is None or fold_eval < min_eval:\n",
    "                min_eval = fold_eval\n",
    "                best_fold = i\n",
    "        y_counts_per_fold[best_fold] += y_counts\n",
    "        groups_per_fold[best_fold].add(g)\n",
    "\n",
    "    all_groups = set(groups)\n",
    "    for i in range(k):\n",
    "        train_groups = all_groups - groups_per_fold[i]\n",
    "        test_groups = groups_per_fold[i]\n",
    "\n",
    "        train_indices = [i for i, g in enumerate(groups) if g in train_groups]\n",
    "        test_indices = [i for i, g in enumerate(groups) if g in test_groups]\n",
    "\n",
    "        yield train_indices, test_indices"
   ]
  },
  {
   "cell_type": "code",
   "execution_count": 20,
   "metadata": {},
   "outputs": [
    {
     "name": "stdout",
     "output_type": "stream",
     "text": [
      "CPU times: user 272 ms, sys: 0 ns, total: 272 ms\n",
      "Wall time: 270 ms\n"
     ]
    }
   ],
   "source": [
    "%%time\n",
    "\n",
    "df_folds = train_y_df.copy()\n",
    "df_folds = df_folds.sample(frac=1).reset_index(drop=True)\n",
    "\n",
    "def get_stratify_group(row):\n",
    "    stratify_group = f'_{row[\"M\"]}'\n",
    "    stratify_group += f'_{row[\"V\"]}'\n",
    "    return stratify_group\n",
    "\n",
    "def get_labels(row):\n",
    "    #labels = [row['X'], row['Y'], row['M'], row['V']]\n",
    "    labels = f'{row[\"X\"]}'\n",
    "    labels += f',{row[\"Y\"]}'\n",
    "    labels += f',{row[\"M\"]}'\n",
    "    labels += f',{row[\"V\"]}'\n",
    "    return labels\n",
    "\n",
    "df_folds['stratified_group'] = df_folds.apply(get_stratify_group, axis=1)\n",
    "df_folds['stratified_group'] = df_folds['stratified_group'].astype('category').cat.codes\n",
    "\n",
    "df_folds['labels'] = df_folds.apply(get_labels, axis=1)"
   ]
  },
  {
   "cell_type": "code",
   "execution_count": 21,
   "metadata": {},
   "outputs": [
    {
     "data": {
      "text/html": [
       "<div>\n",
       "<style scoped>\n",
       "    .dataframe tbody tr th:only-of-type {\n",
       "        vertical-align: middle;\n",
       "    }\n",
       "\n",
       "    .dataframe tbody tr th {\n",
       "        vertical-align: top;\n",
       "    }\n",
       "\n",
       "    .dataframe thead th {\n",
       "        text-align: right;\n",
       "    }\n",
       "</style>\n",
       "<table border=\"1\" class=\"dataframe\">\n",
       "  <thead>\n",
       "    <tr style=\"text-align: right;\">\n",
       "      <th></th>\n",
       "      <th>id</th>\n",
       "      <th>X</th>\n",
       "      <th>Y</th>\n",
       "      <th>M</th>\n",
       "      <th>V</th>\n",
       "      <th>stratified_group</th>\n",
       "      <th>labels</th>\n",
       "    </tr>\n",
       "  </thead>\n",
       "  <tbody>\n",
       "    <tr>\n",
       "      <th>0</th>\n",
       "      <td>1088</td>\n",
       "      <td>-300.0</td>\n",
       "      <td>-400.0</td>\n",
       "      <td>50.0</td>\n",
       "      <td>0.4</td>\n",
       "      <td>26</td>\n",
       "      <td>-300.0,-400.0,50.0,0.4</td>\n",
       "    </tr>\n",
       "    <tr>\n",
       "      <th>1</th>\n",
       "      <td>772</td>\n",
       "      <td>-200.0</td>\n",
       "      <td>400.0</td>\n",
       "      <td>75.0</td>\n",
       "      <td>0.6</td>\n",
       "      <td>32</td>\n",
       "      <td>-200.0,400.0,75.0,0.6</td>\n",
       "    </tr>\n",
       "    <tr>\n",
       "      <th>2</th>\n",
       "      <td>2161</td>\n",
       "      <td>300.0</td>\n",
       "      <td>400.0</td>\n",
       "      <td>75.0</td>\n",
       "      <td>0.6</td>\n",
       "      <td>32</td>\n",
       "      <td>300.0,400.0,75.0,0.6</td>\n",
       "    </tr>\n",
       "    <tr>\n",
       "      <th>3</th>\n",
       "      <td>1192</td>\n",
       "      <td>-300.0</td>\n",
       "      <td>-300.0</td>\n",
       "      <td>175.0</td>\n",
       "      <td>0.8</td>\n",
       "      <td>18</td>\n",
       "      <td>-300.0,-300.0,175.0,0.8</td>\n",
       "    </tr>\n",
       "    <tr>\n",
       "      <th>4</th>\n",
       "      <td>1916</td>\n",
       "      <td>-300.0</td>\n",
       "      <td>-300.0</td>\n",
       "      <td>25.0</td>\n",
       "      <td>0.8</td>\n",
       "      <td>23</td>\n",
       "      <td>-300.0,-300.0,25.0,0.8</td>\n",
       "    </tr>\n",
       "  </tbody>\n",
       "</table>\n",
       "</div>"
      ],
      "text/plain": [
       "     id      X      Y      M    V  stratified_group                   labels\n",
       "0  1088 -300.0 -400.0   50.0  0.4                26   -300.0,-400.0,50.0,0.4\n",
       "1   772 -200.0  400.0   75.0  0.6                32    -200.0,400.0,75.0,0.6\n",
       "2  2161  300.0  400.0   75.0  0.6                32     300.0,400.0,75.0,0.6\n",
       "3  1192 -300.0 -300.0  175.0  0.8                18  -300.0,-300.0,175.0,0.8\n",
       "4  1916 -300.0 -300.0   25.0  0.8                23   -300.0,-300.0,25.0,0.8"
      ]
     },
     "execution_count": 21,
     "metadata": {},
     "output_type": "execute_result"
    }
   ],
   "source": [
    "df_folds.head()"
   ]
  },
  {
   "cell_type": "code",
   "execution_count": 22,
   "metadata": {},
   "outputs": [
    {
     "data": {
      "application/vnd.jupyter.widget-view+json": {
       "model_id": "aa93ff2e1e9f458ba60c1d60764b5477",
       "version_major": 2,
       "version_minor": 0
      },
      "text/plain": [
       "HBox(children=(FloatProgress(value=1.0, bar_style='info', max=1.0), HTML(value='')))"
      ]
     },
     "metadata": {},
     "output_type": "display_data"
    },
    {
     "data": {
      "application/vnd.jupyter.widget-view+json": {
       "model_id": "40caf5c72aff47fc9ef2f96142e1d052",
       "version_major": 2,
       "version_minor": 0
      },
      "text/plain": [
       "HBox(children=(FloatProgress(value=0.0, max=2800.0), HTML(value='')))"
      ]
     },
     "metadata": {},
     "output_type": "display_data"
    },
    {
     "name": "stdout",
     "output_type": "stream",
     "text": [
      "\n",
      "\n",
      "CPU times: user 16.1 s, sys: 52 ms, total: 16.2 s\n",
      "Wall time: 16.1 s\n"
     ]
    }
   ],
   "source": [
    "%%time\n",
    "\n",
    "df_folds.loc[:, 'fold'] = 0\n",
    "\n",
    "skf = stratified_group_k_fold(X=df_folds.index, \n",
    "                              y=df_folds['stratified_group'], \n",
    "                              groups=df_folds['id'], k=5, seed=42)\n",
    "\n",
    "for fold_number, (train_index, val_index) in enumerate(tqdm(skf)):\n",
    "    df_folds.loc[df_folds.iloc[val_index].index, 'fold'] = fold_number"
   ]
  },
  {
   "cell_type": "code",
   "execution_count": 23,
   "metadata": {},
   "outputs": [],
   "source": [
    "df_folds.to_csv('folds_0611.csv', index=False)"
   ]
  },
  {
   "cell_type": "markdown",
   "metadata": {},
   "source": [
    "# [추가2] - 데이터 pickle 형태로 저장\n",
    "- 최초 한 번 실행하여 파일 생성한 뒤에는 실행할 필요 없음\n",
    "- 코드 공유 데이터 부분을 활용하였고, 편의상 시간축 값은 제거하고 저장"
   ]
  },
  {
   "cell_type": "code",
   "execution_count": null,
   "metadata": {},
   "outputs": [],
   "source": [
    "X_data = np.loadtxt(dataset_path + 'train_features.csv',skiprows=1,delimiter=',')\n",
    "X_data = X_data[:,1:]\n",
    "print(X_data.shape)\n",
    "     \n",
    "    \n",
    "Y_data = np.loadtxt(dataset_path + 'train_target.csv',skiprows=1,delimiter=',')\n",
    "Y_data = Y_data[:,1:]\n",
    "print(Y_data.shape)\n",
    "\n",
    "X_data = X_data.reshape((2800,375,5,1))\n",
    "print(X_data.shape)\n",
    "\n",
    "_X_data_test = np.loadtxt(dataset_path + 'test_features.csv',skiprows=1,delimiter=',')\n",
    "X_data_test = _X_data_test[:,1:]\n",
    "X_data_test = X_data_test.reshape((700,375,5,1))"
   ]
  },
  {
   "cell_type": "code",
   "execution_count": null,
   "metadata": {},
   "outputs": [],
   "source": [
    "for index in tqdm(range(len(X_data))):\n",
    "    image_ids = index\n",
    "    image_array = X_data[index]\n",
    "    joblib.dump(image_array, f'../data/train_images/train_{index}.pkl')              \n",
    "\n",
    "for index in tqdm(range(len(X_data_test))):\n",
    "    image_ids = X_data_test[index][0]\n",
    "    image_array = X_data_test[index]\n",
    "    joblib.dump(image_array, f'../data/test_images/test_{index}.pkl')  "
   ]
  },
  {
   "cell_type": "markdown",
   "metadata": {},
   "source": [
    "## 데이터 load 예시 - train"
   ]
  },
  {
   "cell_type": "code",
   "execution_count": null,
   "metadata": {},
   "outputs": [],
   "source": [
    "image, targets = train_dataset[0]\n",
    "\n",
    "x = targets[0]\n",
    "y = targets[1]\n",
    "m = targets[2]\n",
    "v = targets[3]\n",
    "\n",
    "print(x, y, m, v)\n",
    "\n",
    "numpy_image = image.permute(1,2,0).cpu().numpy()\n",
    "\n",
    "fig, ax = plt.subplots(1, 1, figsize=(16, 8))\n",
    "    \n",
    "ax.set_axis_off()\n",
    "ax.imshow(numpy_image, cmap='gray');"
   ]
  },
  {
   "cell_type": "code",
   "execution_count": null,
   "metadata": {},
   "outputs": [],
   "source": [
    "plt.figure(figsize=(8,6))\n",
    "\n",
    "plt.plot(numpy_image[:,0,0], label=\"Sensor #1\")\n",
    "plt.plot(numpy_image[:,1,0], label=\"Sensor #2\")\n",
    "plt.plot(numpy_image[:,2,0], label=\"Sensor #3\")\n",
    "plt.plot(numpy_image[:,3,0], label=\"Sensor #4\")\n",
    "\n",
    "plt.xlabel(\"Time\", labelpad=10, size=20)\n",
    "plt.ylabel(\"Acceleration\", labelpad=10, size=20)\n",
    "plt.xticks(size=15)\n",
    "plt.yticks(size=15)\n",
    "plt.xlim(0, 400)\n",
    "plt.legend(loc=1)\n",
    "\n",
    "plt.show()"
   ]
  }
 ],
 "metadata": {
  "kernelspec": {
   "display_name": "Python 3",
   "language": "python",
   "name": "python3"
  },
  "language_info": {
   "codemirror_mode": {
    "name": "ipython",
    "version": 3
   },
   "file_extension": ".py",
   "mimetype": "text/x-python",
   "name": "python",
   "nbconvert_exporter": "python",
   "pygments_lexer": "ipython3",
   "version": "3.7.6"
  }
 },
 "nbformat": 4,
 "nbformat_minor": 4
}
